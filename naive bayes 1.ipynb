{
 "cells": [
  {
   "cell_type": "markdown",
   "id": "501a092c-133a-4435-88ed-0ced7aa1a032",
   "metadata": {},
   "source": [
    "# Q1. What is Bayes' theorem?"
   ]
  },
  {
   "cell_type": "markdown",
   "id": "281a3f84-39e9-4eab-a467-dd573e01a289",
   "metadata": {},
   "source": [
    "Bayes' theorem is a mathematical principle that describes how to update the probability for a hypothesis (or event) based on new evidence. It is named after Thomas Bayes, an 18th-century statistician and theologian. Bayes' theorem is a fundamental concept in probability theory and statistics, particularly in the field of Bayesian statistics."
   ]
  },
  {
   "cell_type": "markdown",
   "id": "f309900e-ca60-41b2-b750-baf071f83f89",
   "metadata": {},
   "source": [
    "# Q2. What is the formula for Bayes' theorem?"
   ]
  },
  {
   "cell_type": "markdown",
   "id": "8f029f7b-7d2f-474b-aed5-c7900d7d004b",
   "metadata": {},
   "source": [
    "Q2. The formula for Bayes' theorem is as follows:\n",
    "\n",
    "\\[P(A|B) = \\frac{P(B|A) \\cdot P(A)}{P(B)}\\]\n",
    "\n",
    "Where:\n",
    "- \\(P(A|B)\\) is the conditional probability of event A given that event B has occurred.\n",
    "- \\(P(B|A)\\) is the conditional probability of event B given that event A has occurred.\n",
    "- \\(P(A)\\) is the prior probability of event A (the probability of A before considering the new evidence).\n",
    "- \\(P(B)\\) is the prior probability of event B (the probability of B before considering the new evidence).\n"
   ]
  },
  {
   "cell_type": "markdown",
   "id": "f00a789c-cf9d-4c8c-8979-f12a575c7214",
   "metadata": {},
   "source": [
    "# Q3. How is Bayes' theorem used in practice?"
   ]
  },
  {
   "cell_type": "markdown",
   "id": "cd1fc7b2-c7b6-484a-a2c2-3234aeec0996",
   "metadata": {},
   "source": [
    " Bayes' theorem is used in various fields, including statistics, machine learning, and artificial intelligence, for tasks such as classification, spam filtering, medical diagnosis, and more. It helps update the probability of a hypothesis or event based on observed data, making it a valuable tool for making decisions in uncertain or probabilistic settings."
   ]
  },
  {
   "cell_type": "markdown",
   "id": "99727c02-c3fe-42c1-b328-43970000ba49",
   "metadata": {},
   "source": [
    "# Q4. What is the relationship between Bayes' theorem and conditional probability?"
   ]
  },
  {
   "cell_type": "markdown",
   "id": "07a76c85-555c-450f-9d60-9dc2cf5aa02a",
   "metadata": {},
   "source": [
    "Bayes' theorem is a mathematical formula that provides a way to calculate conditional probabilities. In fact, Bayes' theorem is essentially an expression of conditional probability in terms of prior probabilities and the likelihood of observed evidence."
   ]
  },
  {
   "cell_type": "markdown",
   "id": "fe56fdbc-174c-4d99-a8f2-9f57842e5d81",
   "metadata": {},
   "source": [
    "# Q5. How do you choose which type of Naive Bayes classifier to use for any given problem?"
   ]
  },
  {
   "cell_type": "markdown",
   "id": "98cddf6a-c0f9-4ccb-b8d3-1a38a1839623",
   "metadata": {},
   "source": [
    "a. Gaussian Naive Bayes: It assumes that features follow a Gaussian (normal) distribution. This is suitable for continuous or real-valued features.\n",
    "\n",
    "b. Multinomial Naive Bayes: It is used when the features represent discrete data, typically counts or frequencies. It is commonly used in text classification tasks where features are word counts or TF-IDF values.\n",
    "\n",
    "c. Bernoulli Naive Bayes: This is used for binary or Boolean features. It is often employed in document classification where features represent the presence or absence of words.\n",
    "\n",
    "The choice depends on the specific characteristics of your dataset and how well the assumptions of each variant align with your data."
   ]
  },
  {
   "cell_type": "markdown",
   "id": "0dc8aac6-44ad-4ffc-a400-9559b66ce55f",
   "metadata": {},
   "source": [
    "# Q6. Assignment:\n",
    "# You have a dataset with two features, X1 and X2, and two possible classes, A and B. You want to use Naive\n",
    "# Bayes to classify a new instance with features X1 = 3 and X2 = 4. The following table shows the frequency of\n",
    "# each feature value for each class:\n",
    "# Class X1=1 X1=2 X1=3 X2=1 X2=2 X2=3 X2=4\n",
    "# A 3 3 4 4 3 3 3\n",
    "# B 2 2 1 2 2 2 3\n",
    "# Assuming equal prior probabilities for each class, which class would Naive Bayes predict the new instance\n",
    "# to belong to?"
   ]
  },
  {
   "cell_type": "code",
   "execution_count": null,
   "id": "82831a3b-bad3-4b3e-9d00-5976533c2154",
   "metadata": {},
   "outputs": [],
   "source": []
  },
  {
   "cell_type": "code",
   "execution_count": null,
   "id": "f0048754-504f-46da-9a68-08d995c39c13",
   "metadata": {},
   "outputs": [],
   "source": []
  }
 ],
 "metadata": {
  "kernelspec": {
   "display_name": "Python 3 (ipykernel)",
   "language": "python",
   "name": "python3"
  },
  "language_info": {
   "codemirror_mode": {
    "name": "ipython",
    "version": 3
   },
   "file_extension": ".py",
   "mimetype": "text/x-python",
   "name": "python",
   "nbconvert_exporter": "python",
   "pygments_lexer": "ipython3",
   "version": "3.10.8"
  }
 },
 "nbformat": 4,
 "nbformat_minor": 5
}
